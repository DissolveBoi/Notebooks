{
 "cells": [
  {
   "attachments": {},
   "cell_type": "markdown",
   "id": "8a34d3be",
   "metadata": {},
   "source": [
    "# 支持向量机\n",
    "\n",
    "- 目标：找出分离超平面$\\bold{w} \\cdot x+b=0$，记作超平面$(\\bold{w}, b)$\n",
    "\n",
    "  > 二分问题下的分离超平面将特征空间分为两部分；法向量指向的一侧为正类，另一侧为反类\n",
    "\n",
    "- 定义部分：\n",
    "  - 样本 $(\\bold{x_i} , y_i)$ 到超平面$(\\bold{w}, b)$的函数间隔：\n",
    "  $$\n",
    "  l_i = y_i(\\bold{W^TX_i}+b)\n",
    "  $$\n",
    "  - 样本 $(\\bold{x_i}, y_i)$ 到超平面$(\\bold{w}, b)$的几何间隔：\n",
    "  $$\n",
    "  l_i = \\frac{1}{||\\bold{w}||}y_i(\\bold{W^TX_i}+b)\n",
    "  $$\n",
    "  > 增加一个 **L2范数（向量中所有元素的平方和再求平方根）** 的意义是：防止在成比例改变$\\bold{w}$和$b$时，超平面不改变但是函数间隔变为原来的几倍。\n",
    "  - 我们一般采用前一种（函数间隔）作为决策函数。\n",
    "  - 支持向量：在一种分离超平面造成的分割中，每个类别距离超平面最近的两个向量。\n",
    "  - 此时我们得到如下任务描述：计算参数$\\bold{w}$和$b$，使得数据集到超平面的集合间隔最大化。\n",
    "\n",
    "- 具体问题：此时的数据集不只是只有两类（$y_n \\in \\{-1,+1\\}$），而是有多类分类：\n",
    "  - 给定含$N$各样本的训练集$X=\\{(\\bold{x}_1,y_1), \\cdots, (\\bold{x}_N,y_N)\\}$。\n",
    "  - 其中$K$维特征向量$\\bold{x}_n \\in \\bold{R}^K$，类标签$y_n \\in \\{1, 2, 3, \\cdots, M\\}$。训练集共$M$个类。任务是找到决策函数$y=f(\\bold{x})$用于预测新数据的类别。"
   ]
  }
 ],
 "metadata": {
  "kernelspec": {
   "display_name": "Python 3 (ipykernel)",
   "language": "python",
   "name": "python3"
  },
  "language_info": {
   "codemirror_mode": {
    "name": "ipython",
    "version": 3
   },
   "file_extension": ".py",
   "mimetype": "text/x-python",
   "name": "python",
   "nbconvert_exporter": "python",
   "pygments_lexer": "ipython3",
   "version": "3.10.11"
  }
 },
 "nbformat": 4,
 "nbformat_minor": 5
}
